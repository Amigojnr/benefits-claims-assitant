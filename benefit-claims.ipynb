{
 "cells": [
  {
   "cell_type": "code",
   "execution_count": 1,
   "id": "808e5608-ea49-4dba-8a90-796cb45d3d30",
   "metadata": {},
   "outputs": [
    {
     "name": "stderr",
     "output_type": "stream",
     "text": [
      "/home/codespace/.local/share/virtualenvs/benefits-claims-assitant-w_hr6DTK/lib/python3.12/site-packages/tqdm/auto.py:21: TqdmWarning: IProgress not found. Please update jupyter and ipywidgets. See https://ipywidgets.readthedocs.io/en/stable/user_install.html\n",
      "  from .autonotebook import tqdm as notebook_tqdm\n"
     ]
    }
   ],
   "source": [
    "import pandas as pd\n",
    "import minsearch\n",
    "import json\n",
    "\n",
    "from tqdm.auto import tqdm\n",
    "from openai import OpenAI\n",
    "from elasticsearch import Elasticsearch"
   ]
  },
  {
   "cell_type": "markdown",
   "id": "336a2491-d12d-4100-9f2a-9cc07cf85a71",
   "metadata": {},
   "source": [
    "## Load Document"
   ]
  },
  {
   "cell_type": "code",
   "execution_count": 2,
   "id": "a694a178-66a8-409c-95ec-57411be6a1c1",
   "metadata": {},
   "outputs": [],
   "source": [
    "df = pd.read_csv('notebooks/claims.csv')"
   ]
  },
  {
   "cell_type": "code",
   "execution_count": 3,
   "id": "c4fb3ec4-d1f2-41f9-82f7-01f95f927a97",
   "metadata": {},
   "outputs": [],
   "source": [
    "documents = df.to_dict(orient='records')"
   ]
  },
  {
   "cell_type": "code",
   "execution_count": 4,
   "id": "e8f861cd-5d67-4314-a54c-6302917ca871",
   "metadata": {},
   "outputs": [
    {
     "data": {
      "text/plain": [
       "{'Category': 'Low income',\n",
       " 'Question': 'What is the Help to Save scheme?',\n",
       " 'Answer': 'Help to Save is a government savings account for people on low incomes offering bonuses on your savings.',\n",
       " 'Section': 'general claim benefits'}"
      ]
     },
     "execution_count": 4,
     "metadata": {},
     "output_type": "execute_result"
    }
   ],
   "source": [
    "documents[190]"
   ]
  },
  {
   "cell_type": "code",
   "execution_count": 5,
   "id": "af09bdaf-360a-4bcb-8eff-55984124487d",
   "metadata": {},
   "outputs": [],
   "source": [
    "df_ground_truth = pd.read_csv('notebooks/ground-truth-data.csv')\n",
    "ground_truth = df_ground_truth.to_dict(orient='records')"
   ]
  },
  {
   "cell_type": "code",
   "execution_count": null,
   "id": "b1cb4ff2-2f9a-4ee9-a34f-cb8e969761be",
   "metadata": {},
   "outputs": [],
   "source": []
  },
  {
   "cell_type": "markdown",
   "id": "79d24f93-598f-4662-b23c-d2c038472546",
   "metadata": {},
   "source": [
    "## Minsearch"
   ]
  },
  {
   "cell_type": "code",
   "execution_count": 6,
   "id": "8cfc4278-d267-440c-9138-2e4c82dd01d3",
   "metadata": {},
   "outputs": [
    {
     "data": {
      "text/plain": [
       "<minsearch.Index at 0x7e2125da1160>"
      ]
     },
     "execution_count": 6,
     "metadata": {},
     "output_type": "execute_result"
    }
   ],
   "source": [
    "index = minsearch.Index(\n",
    "    text_fields=[\"Question\", \"Answer\", \"Category\"],\n",
    "    keyword_fields=[\"Section\"]\n",
    ")\n",
    "index.fit(documents)"
   ]
  },
  {
   "cell_type": "code",
   "execution_count": 7,
   "id": "309243d4-b941-43f3-8339-22e4230a3093",
   "metadata": {},
   "outputs": [],
   "source": [
    "q = 'What is the Help to Save scheme?'"
   ]
  },
  {
   "cell_type": "markdown",
   "id": "d5fbe5d2-6519-4e75-a051-0803cff7e3e4",
   "metadata": {},
   "source": [
    "## Implement a LLM that accepts query"
   ]
  },
  {
   "cell_type": "code",
   "execution_count": 8,
   "id": "6963ce76-8a40-4a9e-a024-bc083abd3721",
   "metadata": {},
   "outputs": [
    {
     "data": {
      "text/plain": [
       "'The Help to Save scheme is a UK government initiative designed to encourage individuals with low incomes to save money. This program offers a 50% bonus on the amount saved, providing an incentive for those who might otherwise struggle to set aside funds. Here are the key details of the scheme:\\n\\n1. **Eligibility**: \\n   - You must be receiving Working Tax Credit, or Child Tax Credit and be entitled to Working Tax Credit, or Universal Credit with an individual or household income of at least £658.64 over the last monthly assessment period.\\n   - You must be a resident in the UK.\\n\\n2. **Account Features**:\\n   - **Duration**: The Help to Save account lasts for four years from the date of opening.\\n   - **Savings Limit**: You can save between £1 and £50 each calendar month.\\n   - **Bonuses**: \\n     - First Bonus: After the first two years, the government pays a 50% bonus on the highest amount saved.\\n     - Second Bonus: After four years, the government pays a further 50% bonus on the difference between the highest balance saved in the first two years and the highest balance saved in the last two years.\\n\\n3. **Withdrawals**: \\n   - You can withdraw money from your Help to Save account at any time. However, withdrawing money will affect the bonus you receive since the bonuses are based on the highest saved balance.\\n\\n4. **Account Operation**:\\n   - The Help to Save account is managed online through the GOV.UK website, and you need a Government Gateway user ID and password to apply and manage the account.\\n\\nBy offering these bonuses, the Help to Save scheme aims to help individuals build a savings buffer and improve their financial resilience.'"
      ]
     },
     "execution_count": 8,
     "metadata": {},
     "output_type": "execute_result"
    }
   ],
   "source": [
    "client = OpenAI()\n",
    "response = client.chat.completions.create(\n",
    "    model='gpt-4o',\n",
    "    messages=[{\"role\": \"user\", \"content\": q}]\n",
    ")\n",
    "\n",
    "response.choices[0].message.content"
   ]
  },
  {
   "cell_type": "markdown",
   "id": "eda7c26d-8666-4e8c-8283-8987c635b6b8",
   "metadata": {},
   "source": [
    "## Perform a search of the document"
   ]
  },
  {
   "cell_type": "code",
   "execution_count": 9,
   "id": "f7761c28-a8bb-4c30-9bae-7aac51949603",
   "metadata": {},
   "outputs": [],
   "source": [
    "def search(query):\n",
    "    boost = {'Question': 3.0, 'Answer': 0.5}\n",
    "\n",
    "    results = index.search(\n",
    "        query=query,\n",
    "        filter_dict={'Section': 'general claim benefits'},\n",
    "        boost_dict=boost,\n",
    "        num_results=10\n",
    "    )\n",
    "\n",
    "    return results"
   ]
  },
  {
   "cell_type": "code",
   "execution_count": 10,
   "id": "755c5a55-d1a8-4449-ad44-e4ef074f0678",
   "metadata": {},
   "outputs": [
    {
     "data": {
      "text/plain": [
       "[{'Category': 'Low income',\n",
       "  'Question': 'What is the Help to Save scheme?',\n",
       "  'Answer': 'Help to Save is a government savings account for people on low incomes offering bonuses on your savings.',\n",
       "  'Section': 'general claim benefits'},\n",
       " {'Category': 'Looking for work',\n",
       "  'Question': 'What is the Restart Scheme?',\n",
       "  'Answer': 'The Restart Scheme offers tailored support to help long-term unemployed people find work.',\n",
       "  'Section': 'general claim benefits'},\n",
       " {'Category': 'Looking for work',\n",
       "  'Question': 'What is the Kickstart Scheme?',\n",
       "  'Answer': 'The Kickstart Scheme provides funding to employers to create jobs for young people.',\n",
       "  'Section': 'general claim benefits'},\n",
       " {'Category': 'Disabled or health condition',\n",
       "  'Question': 'What is the Motability Scheme?',\n",
       "  'Answer': 'The Motability Scheme helps disabled people lease a car scooter or powered wheelchair.',\n",
       "  'Section': 'general claim benefits'},\n",
       " {'Category': 'Disabled or health condition',\n",
       "  'Question': 'What is the Blue Badge Scheme?',\n",
       "  'Answer': 'The Blue Badge Scheme allows disabled people to park closer to their destination.',\n",
       "  'Section': 'general claim benefits'},\n",
       " {'Category': 'Families',\n",
       "  'Question': 'What is the Healthy Start Scheme?',\n",
       "  'Answer': 'The Healthy Start Scheme provides vouchers to pregnant women and families with young children.',\n",
       "  'Section': 'general claim benefits'},\n",
       " {'Category': 'Temporarily unable to work',\n",
       "  'Question': 'How do I notify the government if I’m able to return to work?',\n",
       "  'Answer': 'Notify your benefits office or Jobcentre Plus as soon as you are able to return to work.',\n",
       "  'Section': 'general claim benefits'},\n",
       " {'Category': 'Low income',\n",
       "  'Question': 'What is the Warm Home Discount Scheme?',\n",
       "  'Answer': 'The Warm Home Discount Scheme offers help with energy bills.',\n",
       "  'Section': 'general claim benefits'},\n",
       " {'Category': 'Disabled or health condition',\n",
       "  'Question': 'How do I apply for the Access to Work scheme?',\n",
       "  'Answer': 'Apply online or through your Jobcentre Plus work coach to receive support in the workplace.',\n",
       "  'Section': 'general claim benefits'},\n",
       " {'Category': 'Low income',\n",
       "  'Question': 'What is the Local Welfare Assistance scheme?',\n",
       "  'Answer': 'The Local Welfare Assistance scheme provides emergency financial help often for things like food clothing and utilities.',\n",
       "  'Section': 'general claim benefits'}]"
      ]
     },
     "execution_count": 10,
     "metadata": {},
     "output_type": "execute_result"
    }
   ],
   "source": [
    "search(q)"
   ]
  },
  {
   "cell_type": "markdown",
   "id": "2e51dd0e-f8e3-4c96-af3b-12d25198b465",
   "metadata": {},
   "source": [
    "## RAG flow\n",
    "- Building a prompt"
   ]
  },
  {
   "cell_type": "code",
   "execution_count": 11,
   "id": "99e1fcd5-d100-4e71-a4c2-bacdcd777714",
   "metadata": {},
   "outputs": [],
   "source": [
    "def build_prompt(query, search_results):\n",
    "    prompt_template = \"\"\"\n",
    "You are an expert in United Kingdom Benefit Claims and Medical Negligence Claims. Answer the QUESTION based on the CONTEXT from \n",
    "the FAQ databases of Benefits database and NHS claims management. \n",
    "Use only the facts from the CONTEXT when answering the QUESTION.\n",
    "\n",
    "QUESTION: {Question}\n",
    "\n",
    "CONTEXT: \n",
    "{context}\n",
    "\"\"\".strip()\n",
    "\n",
    "    context = \"\"\n",
    "    \n",
    "    for doc in search_results:\n",
    "        context = context + f\"category: {doc['Category']}\\nquestion: {doc['Question']}\\nanswer: {doc['Answer']}\\nsection: {doc['Section']}\\n\\n\"\n",
    "    \n",
    "    prompt = prompt_template.format(Question=query, context=context).strip()\n",
    "    \n",
    "    return prompt"
   ]
  },
  {
   "cell_type": "code",
   "execution_count": 12,
   "id": "507f866c-67c4-468b-bfc2-7021a0168276",
   "metadata": {},
   "outputs": [],
   "source": [
    "def llm(prompt):\n",
    "    response = client.chat.completions.create(\n",
    "        model='gpt-4o-mini',\n",
    "        messages=[{\"role\": \"user\", \"content\": prompt}]\n",
    "    )\n",
    "    \n",
    "    return response.choices[0].message.content"
   ]
  },
  {
   "cell_type": "code",
   "execution_count": 13,
   "id": "2875da3e-0241-4c42-ae7a-578a826deae8",
   "metadata": {},
   "outputs": [],
   "source": [
    "query = \"What is the Help to Save scheme?\"\n",
    "\n",
    "def rag(query):\n",
    "    search_results = search(query)\n",
    "    prompt = build_prompt(query, search_results)\n",
    "    answer = llm(prompt)\n",
    "    return answer"
   ]
  },
  {
   "cell_type": "code",
   "execution_count": 14,
   "id": "be330bcb-cf2c-4d73-849b-c2cf22a35157",
   "metadata": {},
   "outputs": [
    {
     "data": {
      "text/plain": [
       "'The Help to Save scheme is a government savings account designed for people on low incomes, which offers bonuses on your savings.'"
      ]
     },
     "execution_count": 14,
     "metadata": {},
     "output_type": "execute_result"
    }
   ],
   "source": [
    "rag(query)"
   ]
  },
  {
   "cell_type": "code",
   "execution_count": null,
   "id": "d432903b-6878-4837-bb2f-c9b1f8e4d410",
   "metadata": {},
   "outputs": [],
   "source": []
  },
  {
   "cell_type": "markdown",
   "id": "399712ab-91f2-4c69-aea1-a573088c8efd",
   "metadata": {},
   "source": [
    "## TextSearch: Elasticsearch"
   ]
  },
  {
   "cell_type": "markdown",
   "id": "0a5e3674-74e9-4b47-ba12-7fb8298223d3",
   "metadata": {},
   "source": [
    "#### Indexing and Mapping elasticsearch"
   ]
  },
  {
   "cell_type": "code",
   "execution_count": 15,
   "id": "6873230c-150f-44fe-9692-e2d92bac7a58",
   "metadata": {},
   "outputs": [],
   "source": [
    "es_client = Elasticsearch('http://localhost:9200') "
   ]
  },
  {
   "cell_type": "code",
   "execution_count": 16,
   "id": "10e64f0c-a0b0-4576-b519-66a374670977",
   "metadata": {},
   "outputs": [
    {
     "data": {
      "text/plain": [
       "ObjectApiResponse({'acknowledged': True, 'shards_acknowledged': True, 'index': 'benefit-claims'})"
      ]
     },
     "execution_count": 16,
     "metadata": {},
     "output_type": "execute_result"
    }
   ],
   "source": [
    "index_settings = {\n",
    "    \"settings\": {\n",
    "        \"number_of_shards\": 1,\n",
    "        \"number_of_replicas\": 0\n",
    "    },\n",
    "    \"mappings\": {\n",
    "        \"properties\": {\n",
    "            \"Answer\": {\"type\": \"text\"},\n",
    "            \"Category\": {\"type\": \"text\"},\n",
    "            \"Question\": {\"type\": \"text\"},\n",
    "            \"Section\": {\"type\": \"keyword\"} \n",
    "        }\n",
    "    }\n",
    "}\n",
    "\n",
    "index_name = \"benefit-claims\"\n",
    "\n",
    "es_client.indices.delete(index=index_name, ignore_unavailable=True)\n",
    "es_client.indices.create(index=index_name, body=index_settings)"
   ]
  },
  {
   "cell_type": "code",
   "execution_count": 17,
   "id": "482617b8-56fe-4256-9786-e12dd8a47d12",
   "metadata": {},
   "outputs": [
    {
     "name": "stderr",
     "output_type": "stream",
     "text": [
      "100%|███████████████████████████████████████████████████████████████████████████████████████████████████████| 425/425 [00:06<00:00, 67.22it/s]\n"
     ]
    }
   ],
   "source": [
    "for doc in tqdm(documents):\n",
    "    es_client.index(index=index_name, document=doc)"
   ]
  },
  {
   "cell_type": "code",
   "execution_count": 18,
   "id": "5a7f4001-2f8f-4582-aee3-83d4dd782749",
   "metadata": {},
   "outputs": [],
   "source": [
    "def elastic_search(query):\n",
    "    search_query = {\n",
    "        \"size\": 5,\n",
    "        \"query\": {\n",
    "            \"bool\": {\n",
    "                \"must\": {\n",
    "                    \"multi_match\": {\n",
    "                        \"query\": query,\n",
    "                        \"fields\": [\"Question^3\", \"Answer\", \"Category\"],\n",
    "                        \"type\": \"best_fields\"\n",
    "                    }\n",
    "                },\n",
    "                \"filter\": {\n",
    "                    \"term\": {\n",
    "                        \"Section\": \"general claim benefits\"\n",
    "                    }\n",
    "                }\n",
    "            }\n",
    "        }\n",
    "    }\n",
    "\n",
    "    response = es_client.search(index=index_name, body=search_query)\n",
    "    \n",
    "    result_docs = []\n",
    "    \n",
    "    for hit in response['hits']['hits']:\n",
    "        result_docs.append(hit['_source'])\n",
    "    \n",
    "    return result_docs"
   ]
  },
  {
   "cell_type": "code",
   "execution_count": 19,
   "id": "a4c7c948-5c74-494f-8b8d-60ad366ef2de",
   "metadata": {},
   "outputs": [],
   "source": [
    "def rag(query):\n",
    "    search_results = elastic_search(query)\n",
    "    prompt = build_prompt(query, search_results)\n",
    "    answer = llm(prompt)\n",
    "    return answer"
   ]
  },
  {
   "cell_type": "code",
   "execution_count": 20,
   "id": "0c6dfbfe-66f9-44ed-9f24-44639bb241de",
   "metadata": {},
   "outputs": [
    {
     "data": {
      "text/plain": [
       "'The Help to Save scheme is a government savings account designed for people on low incomes, offering bonuses on your savings.'"
      ]
     },
     "execution_count": 20,
     "metadata": {},
     "output_type": "execute_result"
    }
   ],
   "source": [
    "query = \"What is the Help to Save scheme?\"\n",
    "rag(query)"
   ]
  },
  {
   "cell_type": "markdown",
   "id": "76a99f80-7f9d-42d7-a9c1-833ea03a1139",
   "metadata": {},
   "source": [
    "## Vector Search "
   ]
  },
  {
   "cell_type": "code",
   "execution_count": 21,
   "id": "6acf5eff-f27c-49f0-ab22-90d34beef662",
   "metadata": {},
   "outputs": [
    {
     "name": "stderr",
     "output_type": "stream",
     "text": [
      "/home/codespace/.local/share/virtualenvs/benefits-claims-assitant-w_hr6DTK/lib/python3.12/site-packages/transformers/tokenization_utils_base.py:1601: FutureWarning: `clean_up_tokenization_spaces` was not set. It will be set to `True` by default. This behavior will be depracted in transformers v4.45, and will be then set to `False` by default. For more details check this issue: https://github.com/huggingface/transformers/issues/31884\n",
      "  warnings.warn(\n"
     ]
    }
   ],
   "source": [
    "from sentence_transformers import SentenceTransformer\n",
    "\n",
    "model_name = 'multi-qa-MiniLM-L6-cos-v1'\n",
    "model = SentenceTransformer(model_name)"
   ]
  },
  {
   "cell_type": "code",
   "execution_count": 22,
   "id": "b58ff3d3-7dfd-40f2-a5c9-748f5efe5de6",
   "metadata": {},
   "outputs": [
    {
     "data": {
      "text/plain": [
       "384"
      ]
     },
     "execution_count": 22,
     "metadata": {},
     "output_type": "execute_result"
    }
   ],
   "source": [
    "len(model.encode(\"Getting size of model dim\"))"
   ]
  },
  {
   "cell_type": "code",
   "execution_count": 23,
   "id": "234fcea8-5843-4dc9-872c-15a3f5251ba0",
   "metadata": {},
   "outputs": [],
   "source": [
    "df = pd.read_csv('notebooks/claims.csv')\n",
    "documents = df.to_dict(orient='records')"
   ]
  },
  {
   "cell_type": "markdown",
   "id": "55845990-1018-45e8-9c06-f17332442f15",
   "metadata": {},
   "source": [
    "## Mapping and Index"
   ]
  },
  {
   "cell_type": "code",
   "execution_count": 24,
   "id": "d4b79dc6-cb8c-4afe-8afb-b5a8f65b0eb3",
   "metadata": {},
   "outputs": [
    {
     "data": {
      "text/plain": [
       "ObjectApiResponse({'acknowledged': True, 'shards_acknowledged': True, 'index': 'benefit-claims'})"
      ]
     },
     "execution_count": 24,
     "metadata": {},
     "output_type": "execute_result"
    }
   ],
   "source": [
    "index_settings = {\n",
    "    \"settings\": {\n",
    "        \"number_of_shards\": 1,\n",
    "        \"number_of_replicas\": 0\n",
    "    },\n",
    "    \"mappings\": {\n",
    "        \"properties\": {\n",
    "            \"Answer\": {\"type\": \"text\"},\n",
    "            \"Category\": {\"type\": \"text\"},\n",
    "            \"Question\": {\"type\": \"text\"},\n",
    "            \"Section\": {\"type\": \"keyword\"},\n",
    "            \"id\": {\"type\": \"keyword\"},\n",
    "            \"question_answer_vector\": {\n",
    "                \"type\": \"dense_vector\",\n",
    "                \"dims\": 384,\n",
    "                \"index\": True,\n",
    "                \"similarity\": \"cosine\"\n",
    "            },\n",
    "        }\n",
    "    }\n",
    "}\n",
    "\n",
    "index_name = \"benefit-claims\"\n",
    "\n",
    "es_client.indices.delete(index=index_name, ignore_unavailable=True)\n",
    "es_client.indices.create(index=index_name, body=index_settings)"
   ]
  },
  {
   "cell_type": "code",
   "execution_count": 25,
   "id": "d30f32aa-e2f6-480f-8eaf-21ad77ea10a8",
   "metadata": {},
   "outputs": [
    {
     "name": "stderr",
     "output_type": "stream",
     "text": [
      "100%|███████████████████████████████████████████████████████████████████████████████████████████████████████| 425/425 [00:15<00:00, 28.11it/s]\n"
     ]
    }
   ],
   "source": [
    "for doc in tqdm(documents):\n",
    "    question = doc['Question']\n",
    "    answer = doc['Answer']\n",
    "    doc['question_answer_vector'] = model.encode(question + ' ' + answer)\n",
    "\n",
    "    es_client.index(index=index_name, document=doc)"
   ]
  },
  {
   "cell_type": "code",
   "execution_count": 26,
   "id": "21d14c6b-540c-4627-bf98-e2cb725396c4",
   "metadata": {},
   "outputs": [],
   "source": [
    "def elastic_search_knn(field, vector, section):\n",
    "    knn = {\n",
    "        \"field\": field,\n",
    "        \"query_vector\": vector,\n",
    "        \"k\": 5,\n",
    "        \"num_candidates\": 10000,\n",
    "        \"filter\": {\n",
    "            \"term\": {\n",
    "                \"Section\": section\n",
    "            }\n",
    "        }\n",
    "    }\n",
    "\n",
    "    search_query = {\n",
    "        \"knn\": knn,\n",
    "        \"_source\": [\"Answer\", \"Section\", \"Question\", \"Category\", \"id\"]\n",
    "    }\n",
    "\n",
    "    es_results = es_client.search(\n",
    "        index=index_name,\n",
    "        body=search_query\n",
    "    )\n",
    "    \n",
    "    result_docs = []\n",
    "    \n",
    "    for hit in es_results['hits']['hits']:\n",
    "        result_docs.append(hit['_source'])\n",
    "\n",
    "    return result_docs"
   ]
  },
  {
   "cell_type": "code",
   "execution_count": 34,
   "id": "98dd01b3-47f9-42ef-ab4a-c4c6ddcebbad",
   "metadata": {},
   "outputs": [],
   "source": [
    "def question_answer_vector_knn(q):\n",
    "    question = q['Question']\n",
    "    section = q['Section']\n",
    "\n",
    "    v_q = model.encode(question)\n",
    "\n",
    "    return elastic_search_knn('question_answer_vector', v_q, section)"
   ]
  },
  {
   "cell_type": "markdown",
   "id": "55d71a1f-aeae-4eb9-87dc-619760dc452a",
   "metadata": {},
   "source": [
    "## Perform a Vector Search"
   ]
  },
  {
   "cell_type": "code",
   "execution_count": 36,
   "id": "caac826c-817d-4693-96c3-cdc9d1560f4d",
   "metadata": {},
   "outputs": [
    {
     "data": {
      "text/plain": [
       "[{'Answer': 'The Local Welfare Assistance scheme provides emergency financial help often for things like food clothing and utilities.',\n",
       "  'Category': 'Low income',\n",
       "  'Question': 'What is the Local Welfare Assistance scheme?',\n",
       "  'Section': 'general claim benefits'},\n",
       " {'Answer': 'Help to Save is a government savings account for people on low incomes offering bonuses on your savings.',\n",
       "  'Category': 'Low income',\n",
       "  'Question': 'What is the Help to Save scheme?',\n",
       "  'Section': 'general claim benefits'},\n",
       " {'Answer': 'The Hardship Fund provides financial assistance to those in urgent need often administered by local councils.',\n",
       "  'Category': 'Low income',\n",
       "  'Question': 'What is the Hardship Fund?',\n",
       "  'Section': 'general claim benefits'},\n",
       " {'Answer': 'The Restart Scheme offers tailored support to help long-term unemployed people find work.',\n",
       "  'Category': 'Looking for work',\n",
       "  'Question': 'What is the Restart Scheme?',\n",
       "  'Section': 'general claim benefits'},\n",
       " {'Answer': 'The Healthy Start Scheme provides vouchers to pregnant women and families with young children.',\n",
       "  'Category': 'Families',\n",
       "  'Question': 'What is the Healthy Start Scheme?',\n",
       "  'Section': 'general claim benefits'}]"
      ]
     },
     "execution_count": 36,
     "metadata": {},
     "output_type": "execute_result"
    }
   ],
   "source": [
    "question_answer_vector_knn(dict(\n",
    "    Question='What is the Local Welfare Assistance scheme?',\n",
    "    Section='general claim benefits'\n",
    "))"
   ]
  },
  {
   "cell_type": "markdown",
   "id": "14e3f943-937d-46d3-9193-0add21ed9a90",
   "metadata": {},
   "source": [
    "## Rag flow with Vector Search"
   ]
  },
  {
   "cell_type": "code",
   "execution_count": 37,
   "id": "65249826-020f-45ef-8aa3-36871daeac40",
   "metadata": {},
   "outputs": [],
   "source": [
    "def build_prompt(query, search_results):\n",
    "    prompt_template = \"\"\"\n",
    "You are an expert in United Kingdom Benefit Claims and Medical Negligence Claims. Answer the QUESTION based on the CONTEXT from \n",
    "the FAQ databases of Benefits database and NHS claims management. \n",
    "Use only the facts from the CONTEXT when answering the QUESTION.\n",
    "\n",
    "QUESTION: {Question}\n",
    "\n",
    "CONTEXT: \n",
    "{context}\n",
    "\"\"\".strip()\n",
    "\n",
    "    context = \"\"\n",
    "    \n",
    "    for doc in search_results:\n",
    "        context = context + f\"category: {doc['Category']}\\nquestion: {doc['Question']}\\nanswer: {doc['Answer']}\\nsection: {doc['Section']}\\n\\n\"\n",
    "    \n",
    "    prompt = prompt_template.format(Question=query, context=context).strip()\n",
    "    return prompt"
   ]
  },
  {
   "cell_type": "code",
   "execution_count": 41,
   "id": "28f434ea-1c8c-414f-abd9-3c3c872e576e",
   "metadata": {},
   "outputs": [],
   "source": [
    "def llm(prompt, model='gpt-4o-mini'):\n",
    "    response = client.chat.completions.create(\n",
    "        model=model,\n",
    "        messages=[{\"role\": \"user\", \"content\": prompt}]\n",
    "    )\n",
    "    \n",
    "    return response.choices[0].message.content"
   ]
  },
  {
   "cell_type": "code",
   "execution_count": 44,
   "id": "59205ba2-57d6-4a2d-b0bb-7d0e95e7cf29",
   "metadata": {},
   "outputs": [],
   "source": [
    "def rag(query: dict, model='gpt-4o-mini') -> str:\n",
    "    search_results = question_answer_vector_knn(query)\n",
    "    prompt = build_prompt(query['Question'], search_results)\n",
    "    answer = llm(prompt, model=model)\n",
    "    return answer"
   ]
  },
  {
   "cell_type": "code",
   "execution_count": 45,
   "id": "89de7e36-3eca-4bf5-8625-8a8f4732615f",
   "metadata": {},
   "outputs": [
    {
     "data": {
      "text/plain": [
       "\"Yes, you can get sick pay if you're self-isolating. Statutory Sick Pay is available in this situation.\""
      ]
     },
     "execution_count": 45,
     "metadata": {},
     "output_type": "execute_result"
    }
   ],
   "source": [
    "rag(documents[10])"
   ]
  },
  {
   "cell_type": "code",
   "execution_count": 48,
   "id": "f18947bd-3a03-48a6-929f-70c2dd6836f0",
   "metadata": {},
   "outputs": [
    {
     "data": {
      "text/plain": [
       "\"Yes Statutory Sick Pay is available if you're self-isolating.\""
      ]
     },
     "execution_count": 48,
     "metadata": {},
     "output_type": "execute_result"
    }
   ],
   "source": [
    "documents[10]['Answer']"
   ]
  },
  {
   "cell_type": "code",
   "execution_count": null,
   "id": "4217eda1-74a6-4fc8-990f-e14dbad53114",
   "metadata": {},
   "outputs": [],
   "source": []
  },
  {
   "cell_type": "code",
   "execution_count": null,
   "id": "4f1dca61-ebf9-475d-99f2-5595b2160a9a",
   "metadata": {},
   "outputs": [],
   "source": []
  },
  {
   "cell_type": "code",
   "execution_count": null,
   "id": "3fce9cce-bb9b-4e3c-a35d-2c0d4b48cee7",
   "metadata": {},
   "outputs": [],
   "source": []
  },
  {
   "cell_type": "code",
   "execution_count": null,
   "id": "ec188313-2bcd-4fb5-a60c-ba8a764c94be",
   "metadata": {},
   "outputs": [],
   "source": []
  }
 ],
 "metadata": {
  "kernelspec": {
   "display_name": "Python 3 (ipykernel)",
   "language": "python",
   "name": "python3"
  },
  "language_info": {
   "codemirror_mode": {
    "name": "ipython",
    "version": 3
   },
   "file_extension": ".py",
   "mimetype": "text/x-python",
   "name": "python",
   "nbconvert_exporter": "python",
   "pygments_lexer": "ipython3",
   "version": "3.12.1"
  }
 },
 "nbformat": 4,
 "nbformat_minor": 5
}
